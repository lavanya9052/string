{
  "nbformat": 4,
  "nbformat_minor": 0,
  "metadata": {
    "colab": {
      "provenance": []
    },
    "kernelspec": {
      "name": "python3",
      "display_name": "Python 3"
    },
    "language_info": {
      "name": "python"
    }
  },
  "cells": [
    {
      "cell_type": "markdown",
      "source": [
        "1 . Print the input text without vowels\n",
        "\n",
        "input = 'hai'\n",
        "\n",
        "Expected output = h"
      ],
      "metadata": {
        "id": "HHipwDtul9MZ"
      }
    },
    {
      "cell_type": "code",
      "execution_count": null,
      "metadata": {
        "colab": {
          "base_uri": "https://localhost:8080/"
        },
        "id": "_fx0s8XNl0lq",
        "outputId": "6328ff9a-0dd6-443b-f547-40c536c7bc53"
      },
      "outputs": [
        {
          "output_type": "stream",
          "name": "stdout",
          "text": [
            "h"
          ]
        }
      ],
      "source": [
        "a='hai'\n",
        "vowels=['a','e','i','o','u','A','E','I','O','U']\n",
        "\n",
        "for i in a:\n",
        "  if i not in vowels:\n",
        "    print(i,end='')"
      ]
    },
    {
      "cell_type": "markdown",
      "source": [
        "2 . Print only vowels from the text\n",
        "\n",
        "input = data\n",
        "\n",
        "Expected output = aa"
      ],
      "metadata": {
        "id": "bUD73Iddmr6S"
      }
    },
    {
      "cell_type": "code",
      "source": [
        "a='data'\n",
        "vowels=['a','e','i','o','u','A','E','I','O','U']\n",
        "\n",
        "for i in a:\n",
        "  if i  in vowels:\n",
        "    print(i,end='')"
      ],
      "metadata": {
        "colab": {
          "base_uri": "https://localhost:8080/"
        },
        "id": "BIMHisAqmXF_",
        "outputId": "8e4e36b2-4055-4e43-b16d-1c9bba27d847"
      },
      "execution_count": null,
      "outputs": [
        {
          "output_type": "stream",
          "name": "stdout",
          "text": [
            "aa"
          ]
        }
      ]
    },
    {
      "cell_type": "markdown",
      "source": [
        "3 . print each valu from the list with its index\n",
        "\n",
        "\n",
        "input = [10,11,50,34]\n",
        "\n",
        "Expected output = [100 , 111 , 502 , 343]"
      ],
      "metadata": {
        "id": "0Grgx6yGm96T"
      }
    },
    {
      "cell_type": "code",
      "source": [
        "a = [10, 11, 50, 34]\n",
        "b = []\n",
        "\n",
        "for i, j in enumerate(a):\n",
        "    b.append(int(str(j) + str(i)))\n",
        "\n",
        "print(b)\n"
      ],
      "metadata": {
        "colab": {
          "base_uri": "https://localhost:8080/"
        },
        "id": "cBMChPfAVAkn",
        "outputId": "c651f371-2f80-4a48-8654-d8c895863370"
      },
      "execution_count": 2,
      "outputs": [
        {
          "output_type": "stream",
          "name": "stdout",
          "text": [
            "[100, 111, 502, 343]\n"
          ]
        }
      ]
    },
    {
      "cell_type": "markdown",
      "source": [
        "4 . This is a Python Program to print all integers that aren’t divisible by either 2 or 3 and lies between 1 and 50."
      ],
      "metadata": {
        "id": "CfyjQ8UunJR6"
      }
    },
    {
      "cell_type": "code",
      "source": [
        "for i in range(1,51):\n",
        "  if i%2!=0 and i%3!=0:\n",
        "    print(i,end=' ')\n"
      ],
      "metadata": {
        "id": "o6_af-ginPVQ",
        "colab": {
          "base_uri": "https://localhost:8080/"
        },
        "outputId": "4f73c0db-39fb-4e88-9a71-9d0305a0c61e"
      },
      "execution_count": null,
      "outputs": [
        {
          "output_type": "stream",
          "name": "stdout",
          "text": [
            "1 5 7 11 13 17 19 23 25 29 31 35 37 41 43 47 49 "
          ]
        }
      ]
    },
    {
      "cell_type": "code",
      "source": [
        "for i in range(1,51):\n",
        "  if i%2!=0 or i%3!=0:\n",
        "    print(i,end=' ')\n"
      ],
      "metadata": {
        "colab": {
          "base_uri": "https://localhost:8080/"
        },
        "id": "BpShuNe1UTha",
        "outputId": "3d8a55b7-575f-48a0-8087-24c532ef0c65"
      },
      "execution_count": null,
      "outputs": [
        {
          "output_type": "stream",
          "name": "stdout",
          "text": [
            "1 2 3 4 5 7 8 9 10 11 13 14 15 16 17 19 20 21 22 23 25 26 27 28 29 31 32 33 34 35 37 38 39 40 41 43 44 45 46 47 49 50 "
          ]
        }
      ]
    },
    {
      "cell_type": "markdown",
      "source": [
        "5 . The program takes in an integer and prints the smallest divisor of the integer."
      ],
      "metadata": {
        "id": "_DnW8NdDnOCm"
      }
    },
    {
      "cell_type": "code",
      "source": [
        "def divisor(n):\n",
        "  for i in range(2,n+1):\n",
        "    if n % i == 0:\n",
        "     return i\n",
        "\n",
        "divisor(25)\n"
      ],
      "metadata": {
        "colab": {
          "base_uri": "https://localhost:8080/"
        },
        "id": "tuPVsUT2nQdG",
        "outputId": "1746523e-f48d-421b-fe3a-9b79b1a4a265"
      },
      "execution_count": null,
      "outputs": [
        {
          "output_type": "execute_result",
          "data": {
            "text/plain": [
              "5"
            ]
          },
          "metadata": {},
          "execution_count": 2
        }
      ]
    },
    {
      "cell_type": "markdown",
      "source": [
        "6 . Write a Python program to check if it is a strong number or not ."
      ],
      "metadata": {
        "id": "Tz59_CU5nOx4"
      }
    },
    {
      "cell_type": "code",
      "source": [
        "n=int(input(\"Enter a number:\"))\n",
        "sum=0\n",
        "temp=n\n",
        "\n",
        "while n > 0:\n",
        "  r = n % 10\n",
        "  fact = 1\n",
        "  for i in range(1,r+1):\n",
        "     fact = fact*i\n",
        "  sum=sum+fact\n",
        "  n=n//10\n",
        "if(temp==sum):\n",
        "  print(\"it is a strong number\")\n",
        "else:\n",
        "  print(\"it is not a strong number\")\n"
      ],
      "metadata": {
        "colab": {
          "base_uri": "https://localhost:8080/"
        },
        "id": "j09n9JYRnWVA",
        "outputId": "9f10b64d-e5cb-410b-dc75-c8d59f8ca038"
      },
      "execution_count": null,
      "outputs": [
        {
          "output_type": "stream",
          "name": "stdout",
          "text": [
            "Enter a number:145\n",
            "it is a strong number\n"
          ]
        }
      ]
    },
    {
      "cell_type": "markdown",
      "source": [
        "7 . Write a Python program that takes input from the user and displays that input back in upper and lower cases."
      ],
      "metadata": {
        "id": "k7hTiRrknW4Z"
      }
    },
    {
      "cell_type": "code",
      "source": [
        "a='python is very easy language'\n",
        "print(a.upper())\n",
        "print(a.lower())"
      ],
      "metadata": {
        "id": "U3C2jLPNnaYE",
        "colab": {
          "base_uri": "https://localhost:8080/"
        },
        "outputId": "3403f2d7-1c7e-42ad-e7fc-5c21df5c2979"
      },
      "execution_count": null,
      "outputs": [
        {
          "output_type": "stream",
          "name": "stdout",
          "text": [
            "PYTHON IS VERY EASY LANGUAGE\n",
            "python is very easy language\n"
          ]
        }
      ]
    },
    {
      "cell_type": "markdown",
      "source": [
        "8 . Write a Python program to remove spaces from a given string\n",
        "\n",
        "- input = united states\n",
        "- output = unitedstates"
      ],
      "metadata": {
        "id": "-_d81fHFnbJO"
      }
    },
    {
      "cell_type": "code",
      "source": [
        "str=' United states'\n",
        "str1=str.split()\n",
        "str2=''.join(str1)\n",
        "print(str2)\n"
      ],
      "metadata": {
        "colab": {
          "base_uri": "https://localhost:8080/"
        },
        "id": "-b2dN4F1nfm6",
        "outputId": "9479176e-82e2-4db7-acf9-cb2d54032d5a"
      },
      "execution_count": null,
      "outputs": [
        {
          "output_type": "stream",
          "name": "stdout",
          "text": [
            "Unitedstates\n"
          ]
        }
      ]
    },
    {
      "cell_type": "markdown",
      "source": [
        "9 . Write a Python program to capitalize first and last letters of each word of a given string."
      ],
      "metadata": {
        "id": "GqflqdKpngGk"
      }
    },
    {
      "cell_type": "code",
      "source": [
        "a='my name is lavanya'\n"
      ],
      "metadata": {
        "id": "6Jyy8Ow_njWu"
      },
      "execution_count": null,
      "outputs": []
    },
    {
      "cell_type": "markdown",
      "source": [
        "10 . write a python program to find length of a string but should not use len keyword"
      ],
      "metadata": {
        "id": "fb5M88eEnj2y"
      }
    },
    {
      "cell_type": "code",
      "source": [
        "a='python is a popular language'\n",
        "b=0\n",
        "for i in a:\n",
        "  b=b+1\n",
        "print(b)\n"
      ],
      "metadata": {
        "colab": {
          "base_uri": "https://localhost:8080/"
        },
        "id": "wxL74QOvnoTn",
        "outputId": "244ca203-e470-4640-c8a4-44a8c29ce60b"
      },
      "execution_count": null,
      "outputs": [
        {
          "output_type": "stream",
          "name": "stdout",
          "text": [
            "28\n"
          ]
        }
      ]
    },
    {
      "cell_type": "code",
      "source": [],
      "metadata": {
        "id": "RBtgbJ8on466"
      },
      "execution_count": null,
      "outputs": []
    }
  ]
}